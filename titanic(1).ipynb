{
 "cells": [
  {
   "cell_type": "code",
   "execution_count": 1,
   "id": "d017dfad",
   "metadata": {
    "_cell_guid": "b1076dfc-b9ad-4769-8c92-a6c4dae69d19",
    "_uuid": "8f2839f25d086af736a60e9eeb907d3b93b6e0e5",
    "execution": {
     "iopub.execute_input": "2022-07-22T16:25:27.323306Z",
     "iopub.status.busy": "2022-07-22T16:25:27.322763Z",
     "iopub.status.idle": "2022-07-22T16:25:27.339051Z",
     "shell.execute_reply": "2022-07-22T16:25:27.337624Z"
    },
    "papermill": {
     "duration": 0.030675,
     "end_time": "2022-07-22T16:25:27.341674",
     "exception": false,
     "start_time": "2022-07-22T16:25:27.310999",
     "status": "completed"
    },
    "tags": []
   },
   "outputs": [
    {
     "name": "stdout",
     "output_type": "stream",
     "text": [
      "/kaggle/input/titanic/train.csv\n",
      "/kaggle/input/titanic/test.csv\n",
      "/kaggle/input/titanic/gender_submission.csv\n"
     ]
    }
   ],
   "source": [
    "# This Python 3 environment comes with many helpful analytics libraries installed\n",
    "# It is defined by the kaggle/python Docker image: https://github.com/kaggle/docker-python\n",
    "# For example, here's several helpful packages to load\n",
    "\n",
    "import numpy as np # linear algebra\n",
    "import pandas as pd # data processing, CSV file I/O (e.g. pd.read_csv)\n",
    "\n",
    "# Input data files are available in the read-only \"../input/\" directory\n",
    "# For example, running this (by clicking run or pressing Shift+Enter) will list all files under the input directory\n",
    "\n",
    "import os\n",
    "for dirname, _, filenames in os.walk('/kaggle/input'):\n",
    "    for filename in filenames:\n",
    "        print(os.path.join(dirname, filename))\n",
    "\n",
    "# You can write up to 20GB to the current directory (/kaggle/working/) that gets preserved as output when you create a version using \"Save & Run All\" \n",
    "# You can also write temporary files to /kaggle/temp/, but they won't be saved outside of the current session"
   ]
  },
  {
   "cell_type": "code",
   "execution_count": 2,
   "id": "6dbbd760",
   "metadata": {
    "execution": {
     "iopub.execute_input": "2022-07-22T16:25:27.354525Z",
     "iopub.status.busy": "2022-07-22T16:25:27.354141Z",
     "iopub.status.idle": "2022-07-22T16:25:28.909827Z",
     "shell.execute_reply": "2022-07-22T16:25:28.908921Z"
    },
    "papermill": {
     "duration": 1.564923,
     "end_time": "2022-07-22T16:25:28.912391",
     "exception": false,
     "start_time": "2022-07-22T16:25:27.347468",
     "status": "completed"
    },
    "tags": []
   },
   "outputs": [],
   "source": [
    "# data analysis and wrangling\n",
    "import numpy as np\n",
    "import pandas as pd\n",
    "from scipy.stats import chi2_contingency\n",
    "from sklearn.impute import SimpleImputer\n",
    "\n",
    "# visualization\n",
    "import seaborn as sns\n",
    "import matplotlib.pyplot as plt\n",
    "%matplotlib inline"
   ]
  },
  {
   "cell_type": "code",
   "execution_count": 3,
   "id": "0a073821",
   "metadata": {
    "execution": {
     "iopub.execute_input": "2022-07-22T16:25:28.924834Z",
     "iopub.status.busy": "2022-07-22T16:25:28.924368Z",
     "iopub.status.idle": "2022-07-22T16:25:28.996606Z",
     "shell.execute_reply": "2022-07-22T16:25:28.995255Z"
    },
    "papermill": {
     "duration": 0.081725,
     "end_time": "2022-07-22T16:25:28.999603",
     "exception": false,
     "start_time": "2022-07-22T16:25:28.917878",
     "status": "completed"
    },
    "tags": []
   },
   "outputs": [
    {
     "name": "stdout",
     "output_type": "stream",
     "text": [
      "Number of rows (Train): 891\n",
      "Number of DUPLICATE rows (Train): 0\n",
      "________________________________________\n",
      "Number of rows (Test): 418\n",
      "Number of DUPLICATE rows (Test): 0\n"
     ]
    },
    {
     "data": {
      "text/html": [
       "<div>\n",
       "<style scoped>\n",
       "    .dataframe tbody tr th:only-of-type {\n",
       "        vertical-align: middle;\n",
       "    }\n",
       "\n",
       "    .dataframe tbody tr th {\n",
       "        vertical-align: top;\n",
       "    }\n",
       "\n",
       "    .dataframe thead th {\n",
       "        text-align: right;\n",
       "    }\n",
       "</style>\n",
       "<table border=\"1\" class=\"dataframe\">\n",
       "  <thead>\n",
       "    <tr style=\"text-align: right;\">\n",
       "      <th></th>\n",
       "      <th>PassengerId</th>\n",
       "      <th>Survived</th>\n",
       "      <th>Pclass</th>\n",
       "      <th>Name</th>\n",
       "      <th>Sex</th>\n",
       "      <th>Age</th>\n",
       "      <th>SibSp</th>\n",
       "      <th>Parch</th>\n",
       "      <th>Ticket</th>\n",
       "      <th>Fare</th>\n",
       "      <th>Cabin</th>\n",
       "      <th>Embarked</th>\n",
       "    </tr>\n",
       "  </thead>\n",
       "  <tbody>\n",
       "    <tr>\n",
       "      <th>0</th>\n",
       "      <td>1</td>\n",
       "      <td>0</td>\n",
       "      <td>3</td>\n",
       "      <td>Braund, Mr. Owen Harris</td>\n",
       "      <td>male</td>\n",
       "      <td>22.0</td>\n",
       "      <td>1</td>\n",
       "      <td>0</td>\n",
       "      <td>A/5 21171</td>\n",
       "      <td>7.2500</td>\n",
       "      <td>NaN</td>\n",
       "      <td>S</td>\n",
       "    </tr>\n",
       "    <tr>\n",
       "      <th>1</th>\n",
       "      <td>2</td>\n",
       "      <td>1</td>\n",
       "      <td>1</td>\n",
       "      <td>Cumings, Mrs. John Bradley (Florence Briggs Th...</td>\n",
       "      <td>female</td>\n",
       "      <td>38.0</td>\n",
       "      <td>1</td>\n",
       "      <td>0</td>\n",
       "      <td>PC 17599</td>\n",
       "      <td>71.2833</td>\n",
       "      <td>C85</td>\n",
       "      <td>C</td>\n",
       "    </tr>\n",
       "    <tr>\n",
       "      <th>2</th>\n",
       "      <td>3</td>\n",
       "      <td>1</td>\n",
       "      <td>3</td>\n",
       "      <td>Heikkinen, Miss. Laina</td>\n",
       "      <td>female</td>\n",
       "      <td>26.0</td>\n",
       "      <td>0</td>\n",
       "      <td>0</td>\n",
       "      <td>STON/O2. 3101282</td>\n",
       "      <td>7.9250</td>\n",
       "      <td>NaN</td>\n",
       "      <td>S</td>\n",
       "    </tr>\n",
       "    <tr>\n",
       "      <th>3</th>\n",
       "      <td>4</td>\n",
       "      <td>1</td>\n",
       "      <td>1</td>\n",
       "      <td>Futrelle, Mrs. Jacques Heath (Lily May Peel)</td>\n",
       "      <td>female</td>\n",
       "      <td>35.0</td>\n",
       "      <td>1</td>\n",
       "      <td>0</td>\n",
       "      <td>113803</td>\n",
       "      <td>53.1000</td>\n",
       "      <td>C123</td>\n",
       "      <td>S</td>\n",
       "    </tr>\n",
       "    <tr>\n",
       "      <th>4</th>\n",
       "      <td>5</td>\n",
       "      <td>0</td>\n",
       "      <td>3</td>\n",
       "      <td>Allen, Mr. William Henry</td>\n",
       "      <td>male</td>\n",
       "      <td>35.0</td>\n",
       "      <td>0</td>\n",
       "      <td>0</td>\n",
       "      <td>373450</td>\n",
       "      <td>8.0500</td>\n",
       "      <td>NaN</td>\n",
       "      <td>S</td>\n",
       "    </tr>\n",
       "  </tbody>\n",
       "</table>\n",
       "</div>"
      ],
      "text/plain": [
       "   PassengerId  Survived  Pclass  \\\n",
       "0            1         0       3   \n",
       "1            2         1       1   \n",
       "2            3         1       3   \n",
       "3            4         1       1   \n",
       "4            5         0       3   \n",
       "\n",
       "                                                Name     Sex   Age  SibSp  \\\n",
       "0                            Braund, Mr. Owen Harris    male  22.0      1   \n",
       "1  Cumings, Mrs. John Bradley (Florence Briggs Th...  female  38.0      1   \n",
       "2                             Heikkinen, Miss. Laina  female  26.0      0   \n",
       "3       Futrelle, Mrs. Jacques Heath (Lily May Peel)  female  35.0      1   \n",
       "4                           Allen, Mr. William Henry    male  35.0      0   \n",
       "\n",
       "   Parch            Ticket     Fare Cabin Embarked  \n",
       "0      0         A/5 21171   7.2500   NaN        S  \n",
       "1      0          PC 17599  71.2833   C85        C  \n",
       "2      0  STON/O2. 3101282   7.9250   NaN        S  \n",
       "3      0            113803  53.1000  C123        S  \n",
       "4      0            373450   8.0500   NaN        S  "
      ]
     },
     "execution_count": 3,
     "metadata": {},
     "output_type": "execute_result"
    }
   ],
   "source": [
    "train = pd.read_csv('/kaggle/input/titanic/train.csv')\n",
    "test = pd.read_csv('/kaggle/input/titanic/test.csv')\n",
    "combine = [train, test]\n",
    "print('Number of rows (Train): ' + str(len(train)))\n",
    "print('Number of DUPLICATE rows (Train): ' + str(len(train) - len(train.drop_duplicates())))\n",
    "print('_' * 40)\n",
    "print('Number of rows (Test): ' + str(len(test)))\n",
    "print('Number of DUPLICATE rows (Test): ' + str(len(test) - len(test.drop_duplicates())))\n",
    "train[:5]"
   ]
  },
  {
   "cell_type": "code",
   "execution_count": 4,
   "id": "cb856746",
   "metadata": {
    "execution": {
     "iopub.execute_input": "2022-07-22T16:25:29.019417Z",
     "iopub.status.busy": "2022-07-22T16:25:29.019057Z",
     "iopub.status.idle": "2022-07-22T16:25:29.076342Z",
     "shell.execute_reply": "2022-07-22T16:25:29.075286Z"
    },
    "papermill": {
     "duration": 0.069175,
     "end_time": "2022-07-22T16:25:29.078179",
     "exception": false,
     "start_time": "2022-07-22T16:25:29.009004",
     "status": "completed"
    },
    "tags": []
   },
   "outputs": [
    {
     "name": "stdout",
     "output_type": "stream",
     "text": [
      "PassengerId: 891 unique values\n",
      "Survived: 2 unique values\n",
      "Pclass: 3 unique values\n",
      "Name: 891 unique values\n",
      "Sex: 2 unique values\n",
      "Age: 88 unique values\n",
      "SibSp: 7 unique values\n",
      "Parch: 7 unique values\n",
      "Ticket: 681 unique values\n",
      "Fare: 248 unique values\n",
      "Cabin: 147 unique values\n",
      "Embarked: 3 unique values\n",
      "________________________________________________________________________________\n",
      "<class 'pandas.core.frame.DataFrame'>\n",
      "RangeIndex: 891 entries, 0 to 890\n",
      "Data columns (total 12 columns):\n",
      " #   Column       Non-Null Count  Dtype  \n",
      "---  ------       --------------  -----  \n",
      " 0   PassengerId  891 non-null    int64  \n",
      " 1   Survived     891 non-null    int64  \n",
      " 2   Pclass       891 non-null    int64  \n",
      " 3   Name         891 non-null    object \n",
      " 4   Sex          891 non-null    object \n",
      " 5   Age          714 non-null    float64\n",
      " 6   SibSp        891 non-null    int64  \n",
      " 7   Parch        891 non-null    int64  \n",
      " 8   Ticket       891 non-null    object \n",
      " 9   Fare         891 non-null    float64\n",
      " 10  Cabin        204 non-null    object \n",
      " 11  Embarked     889 non-null    object \n",
      "dtypes: float64(2), int64(5), object(5)\n",
      "memory usage: 83.7+ KB\n",
      "None\n",
      "________________________________________________________________________________\n",
      "       PassengerId    Survived      Pclass         Age       SibSp  \\\n",
      "count   891.000000  891.000000  891.000000  714.000000  891.000000   \n",
      "mean    446.000000    0.383838    2.308642   29.699118    0.523008   \n",
      "std     257.353842    0.486592    0.836071   14.526497    1.102743   \n",
      "min       1.000000    0.000000    1.000000    0.420000    0.000000   \n",
      "25%     223.500000    0.000000    2.000000   20.125000    0.000000   \n",
      "50%     446.000000    0.000000    3.000000   28.000000    0.000000   \n",
      "75%     668.500000    1.000000    3.000000   38.000000    1.000000   \n",
      "max     891.000000    1.000000    3.000000   80.000000    8.000000   \n",
      "\n",
      "            Parch        Fare  \n",
      "count  891.000000  891.000000  \n",
      "mean     0.381594   32.204208  \n",
      "std      0.806057   49.693429  \n",
      "min      0.000000    0.000000  \n",
      "25%      0.000000    7.910400  \n",
      "50%      0.000000   14.454200  \n",
      "75%      0.000000   31.000000  \n",
      "max      6.000000  512.329200  \n",
      "________________________________________________________________________________\n",
      "                           Name   Sex  Ticket    Cabin Embarked\n",
      "count                       891   891     891      204      889\n",
      "unique                      891     2     681      147        3\n",
      "top     Braund, Mr. Owen Harris  male  347082  B96 B98        S\n",
      "freq                          1   577       7        4      644\n",
      "________________________________________________________________________________\n",
      "Number of missing value(s) in every column (Train):\n",
      "PassengerId      0\n",
      "Survived         0\n",
      "Pclass           0\n",
      "Name             0\n",
      "Sex              0\n",
      "Age            177\n",
      "SibSp            0\n",
      "Parch            0\n",
      "Ticket           0\n",
      "Fare             0\n",
      "Cabin          687\n",
      "Embarked         2\n",
      "dtype: int64\n",
      "Number of missing value(s) in every column (Test):\n",
      "PassengerId      0\n",
      "Pclass           0\n",
      "Name             0\n",
      "Sex              0\n",
      "Age             86\n",
      "SibSp            0\n",
      "Parch            0\n",
      "Ticket           0\n",
      "Fare             1\n",
      "Cabin          327\n",
      "Embarked         0\n",
      "dtype: int64\n"
     ]
    }
   ],
   "source": [
    "# Check number of unique values for every column\n",
    "for col in train.columns:\n",
    "    print(col + ': ' + str(train[col].nunique()) + ' unique values')\n",
    "print('_'*80)\n",
    "print(train.info())\n",
    "print('_'*80)\n",
    "print(train.describe())\n",
    "print('_'*80)\n",
    "print(train.describe(include=['O']))\n",
    "print('_'*80)\n",
    "# Check for missing values in every column\n",
    "print('Number of missing value(s) in every column (Train):')\n",
    "print(train.isnull().sum())\n",
    "print('Number of missing value(s) in every column (Test):')\n",
    "print(test.isnull().sum())"
   ]
  },
  {
   "cell_type": "code",
   "execution_count": 5,
   "id": "1629556c",
   "metadata": {
    "execution": {
     "iopub.execute_input": "2022-07-22T16:25:29.092279Z",
     "iopub.status.busy": "2022-07-22T16:25:29.091704Z",
     "iopub.status.idle": "2022-07-22T16:25:29.764771Z",
     "shell.execute_reply": "2022-07-22T16:25:29.763605Z"
    },
    "papermill": {
     "duration": 0.68274,
     "end_time": "2022-07-22T16:25:29.766934",
     "exception": false,
     "start_time": "2022-07-22T16:25:29.084194",
     "status": "completed"
    },
    "tags": []
   },
   "outputs": [
    {
     "data": {
      "image/png": "[encoded data removed]",
      "text/plain": [
       "<Figure size 576x432 with 1 Axes>"
      ]
     },
     "metadata": {
      "needs_background": "light"
     },
     "output_type": "display_data"
    },
    {
     "data": {
      "image/png": "[encoded data removed]",
      "text/plain": [
       "<Figure size 576x432 with 1 Axes>"
      ]
     },
     "metadata": {
      "needs_background": "light"
     },
     "output_type": "display_data"
    },
    {
     "data": {
      "image/png": "[encoded data removed]",
      "text/plain": [
       "<Figure size 576x432 with 1 Axes>"
      ]
     },
     "metadata": {
      "needs_background": "light"
     },
     "output_type": "display_data"
    },
    {
     "data": {
      "image/png": "[encoded data removed]",
      "text/plain": [
       "<Figure size 576x432 with 1 Axes>"
      ]
     },
     "metadata": {
      "needs_background": "light"
     },
     "output_type": "display_data"
    }
   ],
   "source": [
    "# Plot charts between multiple variables\n",
    "# age\n",
    "fig, ax=plt.subplots(1,figsize=(8,6))\n",
    "sns.boxplot(x='Survived',y='Age', data=train)\n",
    "ax.set_ylim(0,100)\n",
    "plt.title(\"Survived vs Age\")\n",
    "plt.show()\n",
    "\n",
    "# Sex\n",
    "fig, ax=plt.subplots(1,figsize=(8,6))\n",
    "sns.countplot(x='Survived' ,hue='Sex', data=train)\n",
    "ax.set_ylim(0,500)\n",
    "plt.title(\"Survived vs Sex\")\n",
    "plt.show()\n",
    "\n",
    "# Pclass\n",
    "fig, ax=plt.subplots(1,figsize=(8,6))\n",
    "sns.countplot(x='Survived' ,hue='Pclass', data=train)\n",
    "ax.set_ylim(0,400)\n",
    "plt.title(\"Survived vs Pclass\")\n",
    "plt.show()\n",
    "\n",
    "# Embarked\n",
    "fig, ax=plt.subplots(1,figsize=(8,6))\n",
    "sns.countplot(x='Survived' ,hue='Embarked', data=train)\n",
    "ax.set_ylim(0,500)\n",
    "plt.title(\"Survived vs Embarked\")\n",
    "plt.show()"
   ]
  },
  {
   "cell_type": "code",
   "execution_count": 6,
   "id": "44de6f56",
   "metadata": {
    "execution": {
     "iopub.execute_input": "2022-07-22T16:25:29.790225Z",
     "iopub.status.busy": "2022-07-22T16:25:29.789692Z",
     "iopub.status.idle": "2022-07-22T16:25:29.795867Z",
     "shell.execute_reply": "2022-07-22T16:25:29.795206Z"
    },
    "papermill": {
     "duration": 0.02007,
     "end_time": "2022-07-22T16:25:29.797762",
     "exception": false,
     "start_time": "2022-07-22T16:25:29.777692",
     "status": "completed"
    },
    "tags": []
   },
   "outputs": [],
   "source": [
    "# Drop PassengerId, Ticket and Cabin columns\n",
    "train = train.drop(['PassengerId', 'Ticket', 'Cabin'], axis = 1)\n",
    "test = test.drop(['Ticket', 'Cabin'], axis = 1)\n",
    "combine = [train, test]"
   ]
  },
  {
   "cell_type": "code",
   "execution_count": 7,
   "id": "97fc1539",
   "metadata": {
    "execution": {
     "iopub.execute_input": "2022-07-22T16:25:29.813938Z",
     "iopub.status.busy": "2022-07-22T16:25:29.813422Z",
     "iopub.status.idle": "2022-07-22T16:25:29.817041Z",
     "shell.execute_reply": "2022-07-22T16:25:29.816423Z"
    },
    "papermill": {
     "duration": 0.013811,
     "end_time": "2022-07-22T16:25:29.818879",
     "exception": false,
     "start_time": "2022-07-22T16:25:29.805068",
     "status": "completed"
    },
    "tags": []
   },
   "outputs": [],
   "source": [
    "## feature Engineering"
   ]
  },
  {
   "cell_type": "code",
   "execution_count": 8,
   "id": "fedd8b3e",
   "metadata": {
    "execution": {
     "iopub.execute_input": "2022-07-22T16:25:29.834072Z",
     "iopub.status.busy": "2022-07-22T16:25:29.833727Z",
     "iopub.status.idle": "2022-07-22T16:25:29.840896Z",
     "shell.execute_reply": "2022-07-22T16:25:29.840130Z"
    },
    "papermill": {
     "duration": 0.01718,
     "end_time": "2022-07-22T16:25:29.842938",
     "exception": false,
     "start_time": "2022-07-22T16:25:29.825758",
     "status": "completed"
    },
    "tags": []
   },
   "outputs": [],
   "source": [
    "# Crate FamilySize column from SibSp and Parch\n",
    "for df in combine:\n",
    "    df['FamilySize'] = df['SibSp'] + df['Parch'] + 1"
   ]
  },
  {
   "cell_type": "code",
   "execution_count": 9,
   "id": "7392276f",
   "metadata": {
    "execution": {
     "iopub.execute_input": "2022-07-22T16:25:29.858207Z",
     "iopub.status.busy": "2022-07-22T16:25:29.857621Z",
     "iopub.status.idle": "2022-07-22T16:25:29.886932Z",
     "shell.execute_reply": "2022-07-22T16:25:29.885879Z"
    },
    "papermill": {
     "duration": 0.039056,
     "end_time": "2022-07-22T16:25:29.888754",
     "exception": false,
     "start_time": "2022-07-22T16:25:29.849698",
     "status": "completed"
    },
    "tags": []
   },
   "outputs": [
    {
     "data": {
      "text/html": [
       "<div>\n",
       "<style scoped>\n",
       "    .dataframe tbody tr th:only-of-type {\n",
       "        vertical-align: middle;\n",
       "    }\n",
       "\n",
       "    .dataframe tbody tr th {\n",
       "        vertical-align: top;\n",
       "    }\n",
       "\n",
       "    .dataframe thead th {\n",
       "        text-align: right;\n",
       "    }\n",
       "</style>\n",
       "<table border=\"1\" class=\"dataframe\">\n",
       "  <thead>\n",
       "    <tr style=\"text-align: right;\">\n",
       "      <th>Sex</th>\n",
       "      <th>female</th>\n",
       "      <th>male</th>\n",
       "    </tr>\n",
       "    <tr>\n",
       "      <th>Title</th>\n",
       "      <th></th>\n",
       "      <th></th>\n",
       "    </tr>\n",
       "  </thead>\n",
       "  <tbody>\n",
       "    <tr>\n",
       "      <th>Capt</th>\n",
       "      <td>0</td>\n",
       "      <td>1</td>\n",
       "    </tr>\n",
       "    <tr>\n",
       "      <th>Col</th>\n",
       "      <td>0</td>\n",
       "      <td>2</td>\n",
       "    </tr>\n",
       "    <tr>\n",
       "      <th>Countess</th>\n",
       "      <td>1</td>\n",
       "      <td>0</td>\n",
       "    </tr>\n",
       "    <tr>\n",
       "      <th>Don</th>\n",
       "      <td>0</td>\n",
       "      <td>1</td>\n",
       "    </tr>\n",
       "    <tr>\n",
       "      <th>Dr</th>\n",
       "      <td>1</td>\n",
       "      <td>6</td>\n",
       "    </tr>\n",
       "    <tr>\n",
       "      <th>Jonkheer</th>\n",
       "      <td>0</td>\n",
       "      <td>1</td>\n",
       "    </tr>\n",
       "    <tr>\n",
       "      <th>Lady</th>\n",
       "      <td>1</td>\n",
       "      <td>0</td>\n",
       "    </tr>\n",
       "    <tr>\n",
       "      <th>Major</th>\n",
       "      <td>0</td>\n",
       "      <td>2</td>\n",
       "    </tr>\n",
       "    <tr>\n",
       "      <th>Master</th>\n",
       "      <td>0</td>\n",
       "      <td>40</td>\n",
       "    </tr>\n",
       "    <tr>\n",
       "      <th>Miss</th>\n",
       "      <td>182</td>\n",
       "      <td>0</td>\n",
       "    </tr>\n",
       "    <tr>\n",
       "      <th>Mlle</th>\n",
       "      <td>2</td>\n",
       "      <td>0</td>\n",
       "    </tr>\n",
       "    <tr>\n",
       "      <th>Mme</th>\n",
       "      <td>1</td>\n",
       "      <td>0</td>\n",
       "    </tr>\n",
       "    <tr>\n",
       "      <th>Mr</th>\n",
       "      <td>0</td>\n",
       "      <td>517</td>\n",
       "    </tr>\n",
       "    <tr>\n",
       "      <th>Mrs</th>\n",
       "      <td>125</td>\n",
       "      <td>0</td>\n",
       "    </tr>\n",
       "    <tr>\n",
       "      <th>Ms</th>\n",
       "      <td>1</td>\n",
       "      <td>0</td>\n",
       "    </tr>\n",
       "    <tr>\n",
       "      <th>Rev</th>\n",
       "      <td>0</td>\n",
       "      <td>6</td>\n",
       "    </tr>\n",
       "    <tr>\n",
       "      <th>Sir</th>\n",
       "      <td>0</td>\n",
       "      <td>1</td>\n",
       "    </tr>\n",
       "  </tbody>\n",
       "</table>\n",
       "</div>"
      ],
      "text/plain": [
       "Sex       female  male\n",
       "Title                 \n",
       "Capt           0     1\n",
       "Col            0     2\n",
       "Countess       1     0\n",
       "Don            0     1\n",
       "Dr             1     6\n",
       "Jonkheer       0     1\n",
       "Lady           1     0\n",
       "Major          0     2\n",
       "Master         0    40\n",
       "Miss         182     0\n",
       "Mlle           2     0\n",
       "Mme            1     0\n",
       "Mr             0   517\n",
       "Mrs          125     0\n",
       "Ms             1     0\n",
       "Rev            0     6\n",
       "Sir            0     1"
      ]
     },
     "execution_count": 9,
     "metadata": {},
     "output_type": "execute_result"
    }
   ],
   "source": [
    "# Create Title column from Name\n",
    "for df in combine:\n",
    "    df['Title'] = df['Name'].str.extract(' ([A-Za-z]+)\\.', expand=False)\n",
    "\n",
    "pd.crosstab(train['Title'], train['Sex'])"
   ]
  },
  {
   "cell_type": "code",
   "execution_count": 10,
   "id": "b64fe35c",
   "metadata": {
    "execution": {
     "iopub.execute_input": "2022-07-22T16:25:29.904135Z",
     "iopub.status.busy": "2022-07-22T16:25:29.903791Z",
     "iopub.status.idle": "2022-07-22T16:25:29.920869Z",
     "shell.execute_reply": "2022-07-22T16:25:29.919905Z"
    },
    "papermill": {
     "duration": 0.027334,
     "end_time": "2022-07-22T16:25:29.923167",
     "exception": false,
     "start_time": "2022-07-22T16:25:29.895833",
     "status": "completed"
    },
    "tags": []
   },
   "outputs": [
    {
     "data": {
      "text/plain": [
       "Mr        517\n",
       "Miss      185\n",
       "Mrs       126\n",
       "Master     40\n",
       "Rare       23\n",
       "Name: Title, dtype: int64"
      ]
     },
     "execution_count": 10,
     "metadata": {},
     "output_type": "execute_result"
    }
   ],
   "source": [
    "# Replace titles to more common names and group rare titles\n",
    "common = ['Master', 'Mr', 'Miss', 'Mrs']\n",
    "for df in combine:\n",
    "    df['Title'] = df['Title'].replace('Mlle', 'Miss')\n",
    "    df['Title'] = df['Title'].replace('Ms', 'Miss')\n",
    "    df['Title'] = df['Title'].replace('Mme', 'Mrs')\n",
    "    df['Title'] = [x if x in common else 'Rare' for x in df['Title']]\n",
    "\n",
    "train['Title'].value_counts()"
   ]
  },
  {
   "cell_type": "code",
   "execution_count": 11,
   "id": "966fb6c5",
   "metadata": {
    "execution": {
     "iopub.execute_input": "2022-07-22T16:25:29.939048Z",
     "iopub.status.busy": "2022-07-22T16:25:29.938644Z",
     "iopub.status.idle": "2022-07-22T16:25:29.955631Z",
     "shell.execute_reply": "2022-07-22T16:25:29.954513Z"
    },
    "papermill": {
     "duration": 0.02758,
     "end_time": "2022-07-22T16:25:29.957850",
     "exception": false,
     "start_time": "2022-07-22T16:25:29.930270",
     "status": "completed"
    },
    "tags": []
   },
   "outputs": [],
   "source": [
    "# Encode columns\n",
    "for df in combine:\n",
    "    df['Sex'] = df['Sex'].map({'female': 0, 'male': 1})\n",
    "    #df['Title'] = df['Title'].map({'Mr': 0, 'Miss': 1, 'Mrs': 2, 'Master': 3, 'Rare': 4})\n",
    "    \n",
    "title_ohe1 = pd.get_dummies(train['Title'], prefix = 'Title', drop_first = True)\n",
    "train = pd.concat([train.drop('Title', axis = 1), title_ohe1], axis = 1)\n",
    "\n",
    "title_ohe2 = pd.get_dummies(test['Title'], prefix = 'Title', drop_first = True)\n",
    "test = pd.concat([test.drop('Title', axis = 1), title_ohe2], axis = 1)"
   ]
  },
  {
   "cell_type": "code",
   "execution_count": 12,
   "id": "8d857b65",
   "metadata": {
    "execution": {
     "iopub.execute_input": "2022-07-22T16:25:29.973474Z",
     "iopub.status.busy": "2022-07-22T16:25:29.973106Z",
     "iopub.status.idle": "2022-07-22T16:25:29.980810Z",
     "shell.execute_reply": "2022-07-22T16:25:29.980203Z"
    },
    "papermill": {
     "duration": 0.017692,
     "end_time": "2022-07-22T16:25:29.982747",
     "exception": false,
     "start_time": "2022-07-22T16:25:29.965055",
     "status": "completed"
    },
    "tags": []
   },
   "outputs": [],
   "source": [
    "# Drop Name, SibSp and Parch columns\n",
    "train = train.drop(['Name', 'SibSp', 'Parch'], axis = 1)\n",
    "test = test.drop(['Name', 'SibSp', 'Parch'], axis = 1)\n",
    "combine = [train, test]"
   ]
  },
  {
   "cell_type": "code",
   "execution_count": 13,
   "id": "9363276c",
   "metadata": {
    "execution": {
     "iopub.execute_input": "2022-07-22T16:25:30.006666Z",
     "iopub.status.busy": "2022-07-22T16:25:30.006132Z",
     "iopub.status.idle": "2022-07-22T16:25:30.023655Z",
     "shell.execute_reply": "2022-07-22T16:25:30.022672Z"
    },
    "papermill": {
     "duration": 0.031931,
     "end_time": "2022-07-22T16:25:30.025823",
     "exception": false,
     "start_time": "2022-07-22T16:25:29.993892",
     "status": "completed"
    },
    "tags": []
   },
   "outputs": [
    {
     "data": {
      "text/html": [
       "<div>\n",
       "<style scoped>\n",
       "    .dataframe tbody tr th:only-of-type {\n",
       "        vertical-align: middle;\n",
       "    }\n",
       "\n",
       "    .dataframe tbody tr th {\n",
       "        vertical-align: top;\n",
       "    }\n",
       "\n",
       "    .dataframe thead th {\n",
       "        text-align: right;\n",
       "    }\n",
       "</style>\n",
       "<table border=\"1\" class=\"dataframe\">\n",
       "  <thead>\n",
       "    <tr style=\"text-align: right;\">\n",
       "      <th></th>\n",
       "      <th>Feature 1</th>\n",
       "      <th>Feature 2</th>\n",
       "      <th>Correlation Coefficient</th>\n",
       "    </tr>\n",
       "  </thead>\n",
       "  <tbody>\n",
       "    <tr>\n",
       "      <th>7</th>\n",
       "      <td>Age</td>\n",
       "      <td>Age</td>\n",
       "      <td>1.000000</td>\n",
       "    </tr>\n",
       "    <tr>\n",
       "      <th>26</th>\n",
       "      <td>Age</td>\n",
       "      <td>Pclass</td>\n",
       "      <td>0.369226</td>\n",
       "    </tr>\n",
       "    <tr>\n",
       "      <th>37</th>\n",
       "      <td>Age</td>\n",
       "      <td>FamilySize</td>\n",
       "      <td>0.301914</td>\n",
       "    </tr>\n",
       "    <tr>\n",
       "      <th>38</th>\n",
       "      <td>Age</td>\n",
       "      <td>Title_Miss</td>\n",
       "      <td>0.277827</td>\n",
       "    </tr>\n",
       "    <tr>\n",
       "      <th>47</th>\n",
       "      <td>Age</td>\n",
       "      <td>Title_Mr</td>\n",
       "      <td>0.206341</td>\n",
       "    </tr>\n",
       "    <tr>\n",
       "      <th>50</th>\n",
       "      <td>Age</td>\n",
       "      <td>Title_Rare</td>\n",
       "      <td>0.194639</td>\n",
       "    </tr>\n",
       "    <tr>\n",
       "      <th>60</th>\n",
       "      <td>Age</td>\n",
       "      <td>Title_Mrs</td>\n",
       "      <td>0.178069</td>\n",
       "    </tr>\n",
       "    <tr>\n",
       "      <th>77</th>\n",
       "      <td>Age</td>\n",
       "      <td>Fare</td>\n",
       "      <td>0.096067</td>\n",
       "    </tr>\n",
       "    <tr>\n",
       "      <th>78</th>\n",
       "      <td>Age</td>\n",
       "      <td>Sex</td>\n",
       "      <td>0.093254</td>\n",
       "    </tr>\n",
       "    <tr>\n",
       "      <th>82</th>\n",
       "      <td>Age</td>\n",
       "      <td>Survived</td>\n",
       "      <td>0.077221</td>\n",
       "    </tr>\n",
       "  </tbody>\n",
       "</table>\n",
       "</div>"
      ],
      "text/plain": [
       "   Feature 1   Feature 2  Correlation Coefficient\n",
       "7        Age         Age                 1.000000\n",
       "26       Age      Pclass                 0.369226\n",
       "37       Age  FamilySize                 0.301914\n",
       "38       Age  Title_Miss                 0.277827\n",
       "47       Age    Title_Mr                 0.206341\n",
       "50       Age  Title_Rare                 0.194639\n",
       "60       Age   Title_Mrs                 0.178069\n",
       "77       Age        Fare                 0.096067\n",
       "78       Age         Sex                 0.093254\n",
       "82       Age    Survived                 0.077221"
      ]
     },
     "execution_count": 13,
     "metadata": {},
     "output_type": "execute_result"
    }
   ],
   "source": [
    "# Check correlation of Age with other variables\n",
    "age_corr = train.corr().abs().unstack().sort_values(kind=\"quicksort\", ascending=False).reset_index()\n",
    "age_corr.rename(columns={\"level_0\": \"Feature 1\", \"level_1\": \"Feature 2\", 0: 'Correlation Coefficient'}, inplace=True)\n",
    "age_corr[age_corr['Feature 1'] == 'Age']"
   ]
  },
  {
   "cell_type": "code",
   "execution_count": 14,
   "id": "ed636b93",
   "metadata": {
    "execution": {
     "iopub.execute_input": "2022-07-22T16:25:30.042732Z",
     "iopub.status.busy": "2022-07-22T16:25:30.042166Z",
     "iopub.status.idle": "2022-07-22T16:25:30.078914Z",
     "shell.execute_reply": "2022-07-22T16:25:30.077630Z"
    },
    "papermill": {
     "duration": 0.047267,
     "end_time": "2022-07-22T16:25:30.080969",
     "exception": false,
     "start_time": "2022-07-22T16:25:30.033702",
     "status": "completed"
    },
    "tags": []
   },
   "outputs": [],
   "source": [
    "# Impute Age based on Pclass\n",
    "impute_ages = np.zeros((2,3))\n",
    "for df in combine:\n",
    "    for i in range(0, 2):\n",
    "        for j in range(0, 3):\n",
    "            impute_df = df[(df['Sex'] == i) & \\\n",
    "                                  (df['Pclass'] == j+1)]['Age'].dropna()\n",
    "            impute_ages[i,j] = int(impute_df.median())\n",
    "            \n",
    "    for i in range(0, 2):\n",
    "        for j in range(0, 3):\n",
    "            df.loc[ (df.Age.isnull()) & (df.Sex == i) & (df.Pclass == j+1), 'Age'] = impute_ages[i,j]"
   ]
  },
  {
   "cell_type": "code",
   "execution_count": 15,
   "id": "58585ffa",
   "metadata": {
    "execution": {
     "iopub.execute_input": "2022-07-22T16:25:30.096479Z",
     "iopub.status.busy": "2022-07-22T16:25:30.096098Z",
     "iopub.status.idle": "2022-07-22T16:25:30.286818Z",
     "shell.execute_reply": "2022-07-22T16:25:30.285819Z"
    },
    "papermill": {
     "duration": 0.200978,
     "end_time": "2022-07-22T16:25:30.289067",
     "exception": false,
     "start_time": "2022-07-22T16:25:30.088089",
     "status": "completed"
    },
    "tags": []
   },
   "outputs": [
    {
     "name": "stdout",
     "output_type": "stream",
     "text": [
      "Check correlation between Embarked & Pclass\n",
      "\n"
     ]
    },
    {
     "data": {
      "image/png": "[encoded data removed]",
      "text/plain": [
       "<Figure size 576x432 with 1 Axes>"
      ]
     },
     "metadata": {
      "needs_background": "light"
     },
     "output_type": "display_data"
    }
   ],
   "source": [
    "# Check correlation between Embarked & Pclass\n",
    "fig, ax=plt.subplots(1,figsize=(8,6))\n",
    "sns.countplot(x='Embarked',hue='Pclass', data=train)\n",
    "ax.set_ylim(0,400)\n",
    "plt.title(\"Embarked vs Pclass\")\n",
    "print('Check correlation between Embarked & Pclass\\n')\n",
    "plt.show()"
   ]
  },
  {
   "cell_type": "code",
   "execution_count": 16,
   "id": "c93ad55b",
   "metadata": {
    "execution": {
     "iopub.execute_input": "2022-07-22T16:25:30.305426Z",
     "iopub.status.busy": "2022-07-22T16:25:30.305063Z",
     "iopub.status.idle": "2022-07-22T16:25:30.324528Z",
     "shell.execute_reply": "2022-07-22T16:25:30.323545Z"
    },
    "papermill": {
     "duration": 0.029746,
     "end_time": "2022-07-22T16:25:30.326391",
     "exception": false,
     "start_time": "2022-07-22T16:25:30.296645",
     "status": "completed"
    },
    "tags": []
   },
   "outputs": [],
   "source": [
    "impute_embarked= ['', '', '']\n",
    "for df in combine:\n",
    "    for i in range(0, 3):\n",
    "        impute_val = df[df['Pclass'] == i+1]['Embarked'].dropna().mode()[0]\n",
    "        impute_embarked[i] = impute_val\n",
    "        \n",
    "    for i in range(0, 3):\n",
    "        df.loc[ (df.Embarked.isnull()) & (df.Pclass == i+1), 'Embarked'] = impute_embarked[i]"
   ]
  },
  {
   "cell_type": "code",
   "execution_count": 17,
   "id": "9e19c9ba",
   "metadata": {
    "execution": {
     "iopub.execute_input": "2022-07-22T16:25:30.343086Z",
     "iopub.status.busy": "2022-07-22T16:25:30.342760Z",
     "iopub.status.idle": "2022-07-22T16:25:30.355394Z",
     "shell.execute_reply": "2022-07-22T16:25:30.354421Z"
    },
    "papermill": {
     "duration": 0.023095,
     "end_time": "2022-07-22T16:25:30.357453",
     "exception": false,
     "start_time": "2022-07-22T16:25:30.334358",
     "status": "completed"
    },
    "tags": []
   },
   "outputs": [],
   "source": [
    "# for df in combine:\n",
    "#     df['Embarked'] = df['Embarked'].map({'S': 0, 'C': 1, 'Q': 2})\n",
    "\n",
    "embarked_ohe1 = pd.get_dummies(train['Embarked'], prefix = 'Embarked', drop_first = True)\n",
    "train = pd.concat([train.drop('Embarked', axis = 1), embarked_ohe1], axis = 1)\n",
    "\n",
    "embarked_ohe2 = pd.get_dummies(test['Embarked'], prefix = 'Embarked', drop_first = True)\n",
    "test = pd.concat([test.drop('Embarked', axis = 1), embarked_ohe2], axis = 1)\n",
    "\n",
    "combine = [train, test]"
   ]
  },
  {
   "cell_type": "code",
   "execution_count": 18,
   "id": "01b5983d",
   "metadata": {
    "execution": {
     "iopub.execute_input": "2022-07-22T16:25:30.374703Z",
     "iopub.status.busy": "2022-07-22T16:25:30.374136Z",
     "iopub.status.idle": "2022-07-22T16:25:30.389857Z",
     "shell.execute_reply": "2022-07-22T16:25:30.388870Z"
    },
    "papermill": {
     "duration": 0.027223,
     "end_time": "2022-07-22T16:25:30.392796",
     "exception": false,
     "start_time": "2022-07-22T16:25:30.365573",
     "status": "completed"
    },
    "tags": []
   },
   "outputs": [
    {
     "name": "stdout",
     "output_type": "stream",
     "text": [
      "Number of missing value(s) in every column (Train):\n",
      "Survived      0\n",
      "Pclass        0\n",
      "Sex           0\n",
      "Age           0\n",
      "Fare          0\n",
      "FamilySize    0\n",
      "Title_Miss    0\n",
      "Title_Mr      0\n",
      "Title_Mrs     0\n",
      "Title_Rare    0\n",
      "Embarked_Q    0\n",
      "Embarked_S    0\n",
      "dtype: int64\n",
      "Number of missing value(s) in every column (Test):\n",
      "PassengerId    0\n",
      "Pclass         0\n",
      "Sex            0\n",
      "Age            0\n",
      "Fare           0\n",
      "FamilySize     0\n",
      "Title_Miss     0\n",
      "Title_Mr       0\n",
      "Title_Mrs      0\n",
      "Title_Rare     0\n",
      "Embarked_Q     0\n",
      "Embarked_S     0\n",
      "dtype: int64\n"
     ]
    }
   ],
   "source": [
    "imputer = SimpleImputer()\n",
    "test['Fare'] = list(imputer.fit_transform(test[['Fare']]))\n",
    "test['Fare'] = [x[0] for x in test['Fare']]\n",
    "\n",
    "# Check if there's any missing values left\n",
    "print('Number of missing value(s) in every column (Train):')\n",
    "print(train.isnull().sum())\n",
    "print('Number of missing value(s) in every column (Test):')\n",
    "print(test.isnull().sum())"
   ]
  },
  {
   "cell_type": "markdown",
   "id": "71b3926e",
   "metadata": {
    "papermill": {
     "duration": 0.007556,
     "end_time": "2022-07-22T16:25:30.408844",
     "exception": false,
     "start_time": "2022-07-22T16:25:30.401288",
     "status": "completed"
    },
    "tags": []
   },
   "source": [
    "**Modelling**"
   ]
  },
  {
   "cell_type": "code",
   "execution_count": 19,
   "id": "3756f33c",
   "metadata": {
    "execution": {
     "iopub.execute_input": "2022-07-22T16:25:30.426623Z",
     "iopub.status.busy": "2022-07-22T16:25:30.425579Z",
     "iopub.status.idle": "2022-07-22T16:25:32.098856Z",
     "shell.execute_reply": "2022-07-22T16:25:32.097882Z"
    },
    "papermill": {
     "duration": 1.684455,
     "end_time": "2022-07-22T16:25:32.101095",
     "exception": false,
     "start_time": "2022-07-22T16:25:30.416640",
     "status": "completed"
    },
    "tags": []
   },
   "outputs": [
    {
     "data": {
      "text/html": [
       "<style type='text/css'>\n",
       ".datatable table.frame { margin-bottom: 0; }\n",
       ".datatable table.frame thead { border-bottom: none; }\n",
       ".datatable table.frame tr.coltypes td {  color: #FFFFFF;  line-height: 6px;  padding: 0 0.5em;}\n",
       ".datatable .bool    { background: #DDDD99; }\n",
       ".datatable .object  { background: #565656; }\n",
       ".datatable .int     { background: #5D9E5D; }\n",
       ".datatable .float   { background: #4040CC; }\n",
       ".datatable .str     { background: #CC4040; }\n",
       ".datatable .time    { background: #40CC40; }\n",
       ".datatable .row_index {  background: var(--jp-border-color3);  border-right: 1px solid var(--jp-border-color0);  color: var(--jp-ui-font-color3);  font-size: 9px;}\n",
       ".datatable .frame tbody td { text-align: left; }\n",
       ".datatable .frame tr.coltypes .row_index {  background: var(--jp-border-color0);}\n",
       ".datatable th:nth-child(2) { padding-left: 12px; }\n",
       ".datatable .hellipsis {  color: var(--jp-cell-editor-border-color);}\n",
       ".datatable .vellipsis {  background: var(--jp-layout-color0);  color: var(--jp-cell-editor-border-color);}\n",
       ".datatable .na {  color: var(--jp-cell-editor-border-color);  font-size: 80%;}\n",
       ".datatable .sp {  opacity: 0.25;}\n",
       ".datatable .footer { font-size: 9px; }\n",
       ".datatable .frame_dimensions {  background: var(--jp-border-color3);  border-top: 1px solid var(--jp-border-color0);  color: var(--jp-ui-font-color3);  display: inline-block;  opacity: 0.6;  padding: 1px 10px 1px 5px;}\n",
       "</style>\n"
      ],
      "text/plain": [
       "<IPython.core.display.HTML object>"
      ]
     },
     "metadata": {},
     "output_type": "display_data"
    },
    {
     "name": "stderr",
     "output_type": "stream",
     "text": [
      "/opt/conda/lib/python3.7/site-packages/sklearn/experimental/enable_hist_gradient_boosting.py:17: UserWarning: Since version 1.0, it is not needed to import enable_hist_gradient_boosting anymore. HistGradientBoostingClassifier and HistGradientBoostingRegressor are now stable and can be normally imported from sklearn.ensemble.\n",
      "  \"Since version 1.0, \"\n"
     ]
    }
   ],
   "source": [
    "# Modeling\n",
    "from sklearn.linear_model import LogisticRegression\n",
    "from sklearn.tree import DecisionTreeClassifier\n",
    "from sklearn.ensemble import RandomForestClassifier\n",
    "from xgboost.sklearn import XGBClassifier\n",
    "from sklearn.ensemble import GradientBoostingClassifier\n",
    "from lightgbm import LGBMClassifier\n",
    "from catboost import CatBoostClassifier\n",
    "from sklearn.experimental import enable_hist_gradient_boosting\n",
    "from sklearn.ensemble import HistGradientBoostingClassifier\n",
    "\n",
    "from sklearn import metrics\n",
    "from sklearn.model_selection import train_test_split\n",
    "from sklearn.model_selection import GridSearchCV"
   ]
  },
  {
   "cell_type": "code",
   "execution_count": 20,
   "id": "e5cd7ec6",
   "metadata": {
    "execution": {
     "iopub.execute_input": "2022-07-22T16:25:32.118225Z",
     "iopub.status.busy": "2022-07-22T16:25:32.117739Z",
     "iopub.status.idle": "2022-07-22T16:25:32.126363Z",
     "shell.execute_reply": "2022-07-22T16:25:32.125576Z"
    },
    "papermill": {
     "duration": 0.019196,
     "end_time": "2022-07-22T16:25:32.128164",
     "exception": false,
     "start_time": "2022-07-22T16:25:32.108968",
     "status": "completed"
    },
    "tags": []
   },
   "outputs": [],
   "source": [
    "X = train.drop(columns = 'Survived')\n",
    "X = pd.get_dummies(X, drop_first = True)\n",
    "\n",
    "y = train['Survived']"
   ]
  },
  {
   "cell_type": "code",
   "execution_count": 21,
   "id": "cc251c77",
   "metadata": {
    "execution": {
     "iopub.execute_input": "2022-07-22T16:25:32.145183Z",
     "iopub.status.busy": "2022-07-22T16:25:32.144660Z",
     "iopub.status.idle": "2022-07-22T16:25:32.150765Z",
     "shell.execute_reply": "2022-07-22T16:25:32.150040Z"
    },
    "papermill": {
     "duration": 0.016715,
     "end_time": "2022-07-22T16:25:32.152634",
     "exception": false,
     "start_time": "2022-07-22T16:25:32.135919",
     "status": "completed"
    },
    "tags": []
   },
   "outputs": [],
   "source": [
    "X_train, X_test, y_train, y_test = train_test_split(X, y, test_size = 0.2, random_state = 42)"
   ]
  },
  {
   "cell_type": "code",
   "execution_count": 22,
   "id": "f369a76e",
   "metadata": {
    "execution": {
     "iopub.execute_input": "2022-07-22T16:25:32.169737Z",
     "iopub.status.busy": "2022-07-22T16:25:32.169088Z",
     "iopub.status.idle": "2022-07-22T16:25:32.186775Z",
     "shell.execute_reply": "2022-07-22T16:25:32.185703Z"
    },
    "papermill": {
     "duration": 0.028522,
     "end_time": "2022-07-22T16:25:32.188850",
     "exception": false,
     "start_time": "2022-07-22T16:25:32.160328",
     "status": "completed"
    },
    "tags": []
   },
   "outputs": [],
   "source": [
    "def find_best_model(X_train, X_test, y_train, y_test):\n",
    "    # Logistic Regression\n",
    "    logreg = LogisticRegression(max_iter = 600, random_state = 42)\n",
    "    logreg.fit(X_train, y_train)\n",
    "    y_pred = logreg.predict(X_test)\n",
    "    logreg_acc = round(metrics.accuracy_score(y_test, y_pred) * 100, 2)\n",
    "    \n",
    "    # Decision Tree\n",
    "    decision_tree = DecisionTreeClassifier(random_state = 42)\n",
    "    decision_tree.fit(X_train, y_train)\n",
    "    y_pred = decision_tree.predict(X_test)\n",
    "    decision_tree_acc = round(metrics.accuracy_score(y_test, y_pred) * 100, 2)\n",
    "    \n",
    "    # Random Forest\n",
    "    random_forest = RandomForestClassifier(random_state = 42)\n",
    "    random_forest.fit(X_train, y_train)\n",
    "    y_pred = random_forest.predict(X_test)\n",
    "    random_forest_acc = round(metrics.accuracy_score(y_test, y_pred) * 100, 2)\n",
    "    \n",
    "    # XGBoost\n",
    "    xgb = XGBClassifier(random_state = 42)\n",
    "    xgb.fit(X_train, y_train)\n",
    "    y_pred = xgb.predict(X_test)\n",
    "    xgb_acc = round(metrics.accuracy_score(y_test, y_pred) * 100, 2)\n",
    "    \n",
    "    # GBM\n",
    "    gbm = GradientBoostingClassifier(random_state = 42)\n",
    "    gbm.fit(X_train, y_train)\n",
    "    y_pred = gbm.predict(X_test)\n",
    "    gbm_acc = round(metrics.accuracy_score(y_test, y_pred) * 100, 2)\n",
    "    \n",
    "    # LightGBM\n",
    "    lgbm = LGBMClassifier(random_state = 42)\n",
    "    lgbm.fit(X_train, y_train)\n",
    "    y_pred = lgbm.predict(X_test)\n",
    "    lgbm_acc = round(metrics.accuracy_score(y_test, y_pred) * 100, 2)\n",
    "        \n",
    "    # Catboost\n",
    "    catb = CatBoostClassifier(verbose = 0, random_state = 42)\n",
    "    catb.fit(X_train, y_train)\n",
    "    y_pred = catb.predict(X_test)\n",
    "    catb_acc = round(metrics.accuracy_score(y_test, y_pred) * 100, 2)\n",
    "    \n",
    "    # Histogram-based Gradient Boosting Classification Tree\n",
    "    hgb = HistGradientBoostingClassifier(random_state = 42)\n",
    "    hgb.fit(X_train, y_train)\n",
    "    y_pred = hgb.predict(X_test)\n",
    "    hgb_acc = round(metrics.accuracy_score(y_test, y_pred) * 100, 2)\n",
    "    \n",
    "    model_df = pd.DataFrame({'Model': ['Logistic Regression', 'Decision Tree', 'Random Forest', 'XGBoost', 'GBM', 'LightGBM', 'Catboost', 'HistBoost'],\n",
    "                       'Score': [logreg_acc, decision_tree_acc, random_forest_acc, xgb_acc, gbm_acc, lgbm_acc, catb_acc, hgb_acc]})\n",
    "    print(model_df.sort_values('Score', ascending = False).reset_index(drop = True))"
   ]
  },
  {
   "cell_type": "code",
   "execution_count": 23,
   "id": "1d014a8b",
   "metadata": {
    "execution": {
     "iopub.execute_input": "2022-07-22T16:25:32.205883Z",
     "iopub.status.busy": "2022-07-22T16:25:32.205538Z",
     "iopub.status.idle": "2022-07-22T16:25:34.398747Z",
     "shell.execute_reply": "2022-07-22T16:25:34.397961Z"
    },
    "papermill": {
     "duration": 2.203839,
     "end_time": "2022-07-22T16:25:34.400587",
     "exception": false,
     "start_time": "2022-07-22T16:25:32.196748",
     "status": "completed"
    },
    "tags": []
   },
   "outputs": [
    {
     "name": "stdout",
     "output_type": "stream",
     "text": [
      "                 Model  Score\n",
      "0        Random Forest  84.92\n",
      "1             LightGBM  84.36\n",
      "2            HistBoost  84.36\n",
      "3              XGBoost  83.80\n",
      "4                  GBM  83.24\n",
      "5             Catboost  83.24\n",
      "6  Logistic Regression  79.89\n",
      "7        Decision Tree  77.65\n"
     ]
    }
   ],
   "source": [
    "find_best_model(X_train, X_test, y_train, y_test)"
   ]
  },
  {
   "cell_type": "markdown",
   "id": "7f272969",
   "metadata": {
    "papermill": {
     "duration": 0.008114,
     "end_time": "2022-07-22T16:25:34.417295",
     "exception": false,
     "start_time": "2022-07-22T16:25:34.409181",
     "status": "completed"
    },
    "tags": []
   },
   "source": [
    "***Random Forest***"
   ]
  },
  {
   "cell_type": "code",
   "execution_count": 24,
   "id": "0bd95120",
   "metadata": {
    "execution": {
     "iopub.execute_input": "2022-07-22T16:25:34.434421Z",
     "iopub.status.busy": "2022-07-22T16:25:34.433421Z",
     "iopub.status.idle": "2022-07-22T16:26:05.774327Z",
     "shell.execute_reply": "2022-07-22T16:26:05.773289Z"
    },
    "papermill": {
     "duration": 31.358856,
     "end_time": "2022-07-22T16:26:05.783720",
     "exception": false,
     "start_time": "2022-07-22T16:25:34.424864",
     "status": "completed"
    },
    "tags": []
   },
   "outputs": [
    {
     "name": "stdout",
     "output_type": "stream",
     "text": [
      "Best hyperparameters: {'criterion': 'gini', 'max_depth': 4, 'max_features': 'auto', 'n_estimators': 300}\n"
     ]
    }
   ],
   "source": [
    "rfc = RandomForestClassifier(random_state=42)\n",
    "param_grid = { \n",
    "    'n_estimators': [100, 200, 300], # The number of boosting stages to perform\n",
    "    'max_features': ['auto'], # The number of features to consider when looking for the best split\n",
    "    'max_depth' : [4, 6, 8], # The maximum depth of the individual regression estimators.\n",
    "    'criterion' :['gini', 'entropy'] #Function to measure the quality of a split\n",
    "}\n",
    "CV_rfc = GridSearchCV(estimator=rfc, param_grid=param_grid, cv= 5)\n",
    "CV_rfc.fit(X, y)\n",
    "print('Best hyperparameters:',CV_rfc.best_params_)\n",
    "\n",
    "X_test = test.drop('PassengerId', axis = 1)\n",
    "predictions = CV_rfc.predict(X_test)\n",
    "\n",
    "output = pd.DataFrame({'PassengerId': test.PassengerId,\n",
    "                      'Survived': predictions})\n",
    "\n",
    "output.to_csv('titanic-submission.csv', index= False)"
   ]
  },
  {
   "cell_type": "code",
   "execution_count": null,
   "id": "f787db97",
   "metadata": {
    "papermill": {
     "duration": 0.007291,
     "end_time": "2022-07-22T16:26:05.798556",
     "exception": false,
     "start_time": "2022-07-22T16:26:05.791265",
     "status": "completed"
    },
    "tags": []
   },
   "outputs": [],
   "source": []
  }
 ],
 "metadata": {
  "kernelspec": {
   "display_name": "Python 3",
   "language": "python",
   "name": "python3"
  },
  "language_info": {
   "codemirror_mode": {
    "name": "ipython",
    "version": 3
   },
   "file_extension": ".py",
   "mimetype": "text/x-python",
   "name": "python",
   "nbconvert_exporter": "python",
   "pygments_lexer": "ipython3",
   "version": "3.7.12"
  },
  "papermill": {
   "default_parameters": {},
   "duration": 50.292705,
   "end_time": "2022-07-22T16:26:06.927007",
   "environment_variables": {},
   "exception": null,
   "input_path": "__notebook__.ipynb",
   "output_path": "__notebook__.ipynb",
   "parameters": {},
   "start_time": "2022-07-22T16:25:16.634302",
   "version": "2.3.4"
  }
 },
 "nbformat": 4,
 "nbformat_minor": 5
}
